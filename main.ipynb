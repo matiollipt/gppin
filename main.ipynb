{
 "cells": [
  {
   "cell_type": "markdown",
   "id": "9a1a4c7f",
   "metadata": {},
   "source": [
    "# g-PPIN: graph-based Protein-Protein Interaction Network \n",
    "**Author:** Cleverson Matiolli, PhD"
   ]
  },
  {
   "cell_type": "code",
   "execution_count": 1,
   "id": "96cd1c74",
   "metadata": {},
   "outputs": [],
   "source": [
    "# Imports\n",
    "import numpy as np\n",
    "import pandas as pd"
   ]
  }
 ],
 "metadata": {
  "kernelspec": {
   "display_name": "gppin",
   "language": "python",
   "name": "python3"
  },
  "language_info": {
   "codemirror_mode": {
    "name": "ipython",
    "version": 3
   },
   "file_extension": ".py",
   "mimetype": "text/x-python",
   "name": "python",
   "nbconvert_exporter": "python",
   "pygments_lexer": "ipython3",
   "version": "3.13.0"
  }
 },
 "nbformat": 4,
 "nbformat_minor": 5
}
